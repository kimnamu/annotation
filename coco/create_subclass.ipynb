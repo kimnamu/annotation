{
 "cells": [
  {
   "cell_type": "code",
   "execution_count": null,
   "metadata": {},
   "outputs": [],
   "source": [
    "%pip install pycocotools"
   ]
  },
  {
   "cell_type": "code",
   "execution_count": null,
   "metadata": {},
   "outputs": [],
   "source": [
    "import os\n",
    "import json\n",
    "from pycocotools.coco import COCO\n",
    "\n",
    "def filter_coco_data(coco, class_names):\n",
    "    filtered_images = []\n",
    "    filtered_annotations = []\n",
    "    \n",
    "    for class_name in class_names:\n",
    "        cat_ids = coco.getCatIds(catNms=[class_name])\n",
    "        img_ids = coco.getImgIds(catIds=cat_ids)\n",
    "        ann_ids = coco.getAnnIds(catIds=cat_ids)\n",
    "        \n",
    "        images = coco.loadImgs(ids=img_ids)\n",
    "        annotations = coco.loadAnns(ids=ann_ids)\n",
    "        \n",
    "        filtered_images.extend(images)\n",
    "        filtered_annotations.extend(annotations)\n",
    "    \n",
    "    return filtered_images, filtered_annotations\n",
    "\n",
    "# COCO 데이터셋 경로와 특정 클래스명을 설정합니다.\n",
    "data_dir = './dataset/coco'\n",
    "data_type = 'train2017' # 또는 'val2017' 등\n",
    "ann_file = os.path.join(data_dir, 'annotations', f'instances_{data_type}.json')\n",
    "\n",
    "coco = COCO(ann_file)\n",
    "\n",
    "# 원하는 클래스명을 리스트에 추가하세요.\n",
    "SUBCLASS = ['dog', 'cat']\n",
    "\n",
    "filtered_images, filtered_annotations = filter_coco_data(coco, SUBCLASS)\n",
    "\n",
    "# 새로운 JSON 파일을 생성합니다.\n",
    "filter_name = \"_\".join(SUBCLASS)\n",
    "\n",
    "new_ann_file = os.path.join(data_dir, 'annotations', f'instances_{data_type}_filtered_{filter_name}.json')\n",
    "with open(new_ann_file, 'w') as f:\n",
    "    json.dump({\n",
    "        'images': filtered_images,\n",
    "        'annotations': filtered_annotations,\n",
    "        'categories': coco.loadCats(coco.getCatIds())\n",
    "    }, f)\n"
   ]
  }
 ],
 "metadata": {
  "language_info": {
   "name": "python"
  },
  "orig_nbformat": 4
 },
 "nbformat": 4,
 "nbformat_minor": 2
}
