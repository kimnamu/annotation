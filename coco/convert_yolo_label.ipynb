{
 "cells": [
  {
   "cell_type": "markdown",
   "metadata": {},
   "source": [
    "YOLOv5 학습용 데이터를 구축하기 위해서는 이미지와 라벨 파일을 YOLO 형식으로 변환해야 합니다. 아래 코드를 사용하여 COCO 형식의 new_ann_file을 YOLO 형식으로 변환합니다."
   ]
  },
  {
   "cell_type": "code",
   "execution_count": null,
   "metadata": {},
   "outputs": [],
   "source": [
    "import shutil\n",
    "\n",
    "def convert_coco_to_yolo(coco, annotations, img_dir, output_dir):\n",
    "    yolo_labels_dir = os.path.join(output_dir, 'labels')\n",
    "    yolo_images_dir = os.path.join(output_dir, 'images')\n",
    "    os.makedirs(yolo_labels_dir, exist_ok=True)\n",
    "    os.makedirs(yolo_images_dir, exist_ok=True)\n",
    "\n",
    "    for ann in annotations:\n",
    "        img = coco.loadImgs(ids=[ann['image_id']])[0]\n",
    "        img_width, img_height = img['width'], img['height']\n",
    "        x, y, width, height = ann['bbox']\n",
    "\n",
    "        # Normalize bbox coordinates\n",
    "        x_center = (x + width / 2) / img_width\n",
    "        y_center = (y + height / 2) / img_height\n",
    "        width /= img_width\n",
    "        height /= img_height\n",
    "\n",
    "        # Write YOLO label file\n",
    "        label_file = os.path.join(yolo_labels_dir, f\"{img['file_name'].replace('.jpg', '.txt')}\")\n",
    "        with open(label_file, 'a') as f:\n",
    "            f.write(f\"{ann['category_id']} {x_center} {y_center} {width} {height}\\n\")\n",
    "\n",
    "        # Copy the image file to YOLO images folder\n",
    "        src_img_file = os.path.join(img_dir, img['file_name'])\n",
    "        dst_img_file = os.path.join(yolo_images_dir, img['file_name'])\n",
    "        shutil.copyfile(src_img_file, dst_img_file)\n",
    "\n",
    "# 원본 이미지 경로와 변환된 데이터를 저장할 경로를 설정합니다.\n",
    "img_dir = os.path.join(data_dir, data_type)\n",
    "output_dir = 'path/to/yolo/data'\n",
    "\n",
    "# COCO 형식의 데이터를 YOLO 형식으로 변환합니다.\n",
    "convert_coco_to_yolo(coco, filtered_annotations, img_dir, output_dir)\n"
   ]
  },
  {
   "cell_type": "markdown",
   "metadata": {},
   "source": [
    "이제 YOLOv5를 사용하여 학습할 준비가 되었습니다. YOLOv5를 사용하기 위해 필요한 라이브러리와 리포지토리를 다운받아 설치합니다."
   ]
  },
  {
   "attachments": {},
   "cell_type": "markdown",
   "metadata": {},
   "source": [
    "```\n",
    "git clone https://github.com/ultralytics/yolov5\n",
    "cd yolov5\n",
    "pip install -r requirements.txt\n",
    "```"
   ]
  },
  {
   "cell_type": "markdown",
   "metadata": {},
   "source": [
    "학습을 위한 설정 파일을 작성합니다. \n",
    "`yolov5s.yaml`을 복사하여 새로운 파일 `custom_yolov5s.yaml`을 만들고, 클래스 개수와 데이터 경로를 수정하세요."
   ]
  },
  {
   "cell_type": "code",
   "execution_count": null,
   "metadata": {},
   "outputs": [],
   "source": [
    "# custom_yolov5s.yaml\n",
    "nc: 2  # number of classes (원하는 클래스 개수로 변경)\n",
    "# depth_multiple: 0.33  # model depth multiple\n",
    "# width_multiple: 0.50  # layer channel multiple\n",
    "\n",
    "train: path/to/yolo/data/images  # 학습용 이미지 경로\n",
    "val: path/to/yolo/data/images  # 검증용 이미지 경로 (필요시 변경)\n",
    "\n",
    "# 클래스 이름 설정\n",
    "names: ['dog', 'cat']  # 원하는 클래스명으로 변경"
   ]
  },
  {
   "cell_type": "markdown",
   "metadata": {},
   "source": [
    "## Train"
   ]
  },
  {
   "attachments": {},
   "cell_type": "markdown",
   "metadata": {},
   "source": [
    "### 학습 옵션\n",
    "```\n",
    "--img: 입력 이미지의 크기 (정사각형으로 가정)\n",
    "--batch: 배치 크기\n",
    "--epochs: 학습 에폭 수\n",
    "--data: 학습 및 검증 데이터셋에 대한 설정 파일\n",
    "--cfg: YOLOv5 모델 설정 파일\n",
    "--weights: 사전 학습된 가중치 파일 (사전 학습된 모델을 사용하거나, 이어서 학습하려면 이전 학습의 가중치 파일 경로를 설정)\n",
    "--name: 학습 결과를 저장할 디렉토리의 이름\n",
    "```"
   ]
  },
  {
   "cell_type": "code",
   "execution_count": null,
   "metadata": {},
   "outputs": [],
   "source": [
    "!python detect.py --source path/to/test/images --weights runs/train/my_yolo_model/weights/best.pt --conf 0.25 --img 640"
   ]
  },
  {
   "cell_type": "markdown",
   "metadata": {},
   "source": [
    "## Inference\n",
    "\n",
    "### 추론 옵션\n",
    "```\n",
    "--source: 추론할 이미지 또는 동영상의 경로, 웹캠 사용 시 '0' 입력\n",
    "--weights: 학습된 가중치 파일의 경로\n",
    "--conf: 객체 탐지에 대한 최소 신뢰도 임곗값\n",
    "--img: 입력 이미지의 크기 (정사각형으로 가정)\n",
    "````"
   ]
  },
  {
   "cell_type": "code",
   "execution_count": null,
   "metadata": {},
   "outputs": [],
   "source": [
    "python detect.py --source path/to/test/images --weights runs/train/my_yolo_model/weights/best.pt --conf 0.25 --img 640"
   ]
  },
  {
   "attachments": {},
   "cell_type": "markdown",
   "metadata": {},
   "source": [
    "추론 결과는 `runs/detect` 디렉토리에 저장됩니다. 결과를 확인하려면 이 디렉토리를 열고 생성된 이미지 파일을 확인하세요."
   ]
  },
  {
   "cell_type": "markdown",
   "metadata": {},
   "source": []
  }
 ],
 "metadata": {
  "kernelspec": {
   "display_name": "base",
   "language": "python",
   "name": "python3"
  },
  "language_info": {
   "codemirror_mode": {
    "name": "ipython",
    "version": 3
   },
   "file_extension": ".py",
   "mimetype": "text/x-python",
   "name": "python",
   "nbconvert_exporter": "python",
   "pygments_lexer": "ipython3",
   "version": "3.9.12"
  },
  "orig_nbformat": 4
 },
 "nbformat": 4,
 "nbformat_minor": 2
}
